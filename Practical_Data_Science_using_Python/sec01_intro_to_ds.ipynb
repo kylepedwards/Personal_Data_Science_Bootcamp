{
 "cells": [
  {
   "cell_type": "markdown",
   "id": "d6c48607",
   "metadata": {},
   "source": [
    "# <ins>Section 01: Introduction to Data Science</ins>\n",
    "### A. Course Introduction\n",
    "**How to make the best out of this course**:\n",
    "* As a beginner, focus on concepts\n",
    "* Understand the mathematical intuition of algorithms\n",
    "* Practice on projects, work on optimization techniques, and apply/compare multiple models"
   ]
  },
  {
   "cell_type": "markdown",
   "id": "8880f9da",
   "metadata": {},
   "source": [
    "### B. Data Science Introduction and Use Cases"
   ]
  },
  {
   "cell_type": "markdown",
   "id": "1cbefb68",
   "metadata": {},
   "source": [
    "### C. Data Science Roles and Lifecycle"
   ]
  },
  {
   "cell_type": "markdown",
   "id": "b2fc7a23",
   "metadata": {},
   "source": [
    "### D. Data Science Stages and Technologies"
   ]
  },
  {
   "cell_type": "markdown",
   "id": "3b8afbda",
   "metadata": {},
   "source": [
    "### E. Data Science Technologies and Analytics"
   ]
  },
  {
   "cell_type": "markdown",
   "id": "3795241f",
   "metadata": {},
   "source": [
    "### F. ML-Data and CRISP-DM"
   ]
  }
 ],
 "metadata": {
  "language_info": {
   "name": "python"
  }
 },
 "nbformat": 4,
 "nbformat_minor": 5
}
