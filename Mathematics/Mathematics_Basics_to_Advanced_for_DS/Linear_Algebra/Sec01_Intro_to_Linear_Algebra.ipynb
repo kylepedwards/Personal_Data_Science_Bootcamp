{
 "cells": [
  {
   "cell_type": "markdown",
   "metadata": {},
   "source": [
    "# **<ins>Introduction To Linear Algebra</ins>**\n",
    "### <ins>Linear Algebra</ins>\n",
    "\n",
    "<ins>Linear Algebra</ins> is a branch of mathematics that focuses on the study of <ins>vectors</ins>, <ins>vector spaces</ins> (also called <ins>linear spaces</ins>), <ins>linear transformations</ins>, and <ins>systems of linear equations</ins>. It provides a framework for understanding the properties and operations of these mathematical objects, which can be represented using matrices and vectors.\n",
    "\n"
   ]
  },
  {
   "cell_type": "markdown",
   "metadata": {},
   "source": []
  }
 ],
 "metadata": {
  "language_info": {
   "name": "python"
  }
 },
 "nbformat": 4,
 "nbformat_minor": 2
}
